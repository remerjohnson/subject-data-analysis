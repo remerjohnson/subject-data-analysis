{
 "cells": [
  {
   "cell_type": "markdown",
   "metadata": {},
   "source": [
    "# Subject Conversion data work with `pandas`\n",
    "\n",
    "This is a notebook to work with our subject reconciliation data and start to analyze it a bit. Maybe clean it in certain ways, too.\n"
   ]
  },
  {
   "cell_type": "code",
   "execution_count": 1,
   "metadata": {
    "collapsed": true
   },
   "outputs": [],
   "source": [
    "import pandas as pd"
   ]
  },
  {
   "cell_type": "markdown",
   "metadata": {},
   "source": [
    "## Starting off the csv way\n",
    "(Hey, it's what I know best! We can try to replicate in Excel next)  \n",
    "After we get pandas set up, let's first see if the data is ready:"
   ]
  },
  {
   "cell_type": "code",
   "execution_count": 2,
   "metadata": {
    "collapsed": false
   },
   "outputs": [
    {
     "name": "stdout",
     "output_type": "stream",
     "text": [
      "Status,old_ARK,old_predicate,new_predicate,predicate match,new_role,old_label,updated_label,current DAMS_Label is correct,Action,ARK action ,Label action ,Note,clustering id,FAST_Label_Match_Updated_DAMS_Label,FAST_Label,FAST_URI,LC_Label_Match_Updated_DAMS_Label,LoC_Label,LoC_URI,AAT_Label_Match,AAT_Label,AAT_URI,VIAF_Label_Match,VIAF_Label,VIAF_URI,MARC_tag,Sample_Object_ARK,Object_Counts,Parts,Part_order,DAMS_ARK_Part_order,sort,source,simple or complex,jj,wikipedia_link,ll,mm\r\n",
      "split from complex no match,http://library.ucsd.edu/ark:/20775/bb0001382f,dams:complexSubject,dams:geographic,False,,\"Rancho San Regis (Baja California, Mexico)\",\"Rancho San Regis (Baja California, Mexico)\",,local,,,,,,,,,,,,,,,,,,http://library.ucsd.edu/dc/object/bb98306314,2,2,1,http://library.ucsd.edu/ark:/20775/bb0001382f-1,2,split from complex,complex,,,,\r\n",
      "split from complex matched FAST,http://library.ucsd.edu/ark:/20775/bb0001382f,dams:complexSubject,dams:topic,False,,Pictorial works,Pictorial works,True,FAST,,,,http://id.worldcat.org/fast/1423874,True,Pictorial works,http://id.worldcat.org/fast/1423874,,,,,,,,,,155,http://library.ucsd.edu/dc/object/bb98306314,2,,2,http://library.ucsd.edu/ark:/20775/bb0001382f-2,3,split from complex,complex,,,,\r\n",
      "original no match,http://library.ucsd.edu/ark:/20775/bb0001383z,dams:corporateName,dams:corporateName,True,,\"University Communications, University of California, San Diego\",\"University of California, San Diego. University Communications Office\",False,VIAF,,,,http://viaf.org/viaf/307452573,,,,,,,,,,False,\"University of California, San Diego. University Communications Office\",http://viaf.org/viaf/307452573,,http://library.ucsd.edu/dc/object/bb78169297,1,1,0,http://library.ucsd.edu/ark:/20775/bb0001383z,5,original,simple ,,,,\r\n",
      "split from complex no match,http://library.ucsd.edu/ark:/20775/bb0001384g,dams:complexSubject,dams:geographic,False,,\"Pozo Alemán (Baja California, Mexico)\",\"Pozo Alemán (Baja California, Mexico)\",True,local,,,,,,,,,,,,,,,,,,http://library.ucsd.edu/dc/object/bb3960282w,8,2,1,http://library.ucsd.edu/ark:/20775/bb0001384g-1,8,split from complex,complex,,,,\r\n",
      "split from complex matched FAST,http://library.ucsd.edu/ark:/20775/bb0001384g,dams:complexSubject,dams:topic,False,,Pictorial works,Pictorial works,True,FAST,,,,http://id.worldcat.org/fast/1423874,True,Pictorial works,http://id.worldcat.org/fast/1423874,,,,,,,,,,155,http://library.ucsd.edu/dc/object/bb3960282w,8,,2,http://library.ucsd.edu/ark:/20775/bb0001384g-2,9,split from complex,complex,,,,\r\n",
      "original matched FAST,http://library.ucsd.edu/ark:/20775/bb00013892,dams:topic,dams:topic,True,,Chimbu (Papua New Guinean people),Chimbu (Papua New Guinean people),True,FAST,,,,http://id.worldcat.org/fast/1430035,True,Chimbu (Papua New Guinean people),http://id.worldcat.org/fast/1430035,,,,,,,,,,150,http://library.ucsd.edu/dc/object/bb8670247f,4,1,0,http://library.ucsd.edu/ark:/20775/bb00013892,11,original,simple ,,,,\r\n",
      "original matched FAST,http://library.ucsd.edu/ark:/20775/bb0001450d,dams:topic,dams:topic,True,,Poetry,Poetry,True,FAST,,,,http://id.worldcat.org/fast/1067691,True,Poetry,http://id.worldcat.org/fast/1067691,,,,,,,,,,155,http://library.ucsd.edu/dc/object/bb8909050h,69,,0,http://library.ucsd.edu/ark:/20775/bb0001450d,13,original,simple ,,,,\r\n",
      "original matched FAST,http://library.ucsd.edu/ark:/20775/bb0001453z,dams:topic,dams:topic,True,,Projection art,Projection art,True,FAST,,,,http://id.worldcat.org/fast/1078833,True,Projection art,http://id.worldcat.org/fast/1078833,,,,,,,,,,150,http://library.ucsd.edu/dc/object/bb1503244z,11,,0,http://library.ucsd.edu/ark:/20775/bb0001453z,15,original,simple ,,,,\r\n",
      "original no match,http://library.ucsd.edu/ark:/20775/bb00014550,dams:personalName,dams:personalName,True,,\"Munk, Judith Horton\",\"Munk, Judith Horton\",True,,,,,,,,,,,,,,,,,,,http://library.ucsd.edu/dc/object/bb4301417c,10,1,0,http://library.ucsd.edu/ark:/20775/bb00014550,17,original,simple ,,,,\r\n"
     ]
    }
   ],
   "source": [
    "!head subject_conversion.csv"
   ]
  },
  {
   "cell_type": "markdown",
   "metadata": {},
   "source": [
    "Now let's get `pandas` to get this as a dataframe and show us a snippet. We'll use the magic `%%time` which will tell us how quickly this large-ish (>3MB) csv will become a dataframe"
   ]
  },
  {
   "cell_type": "code",
   "execution_count": 10,
   "metadata": {
    "collapsed": false
   },
   "outputs": [
    {
     "name": "stdout",
     "output_type": "stream",
     "text": [
      "CPU times: user 264 ms, sys: 40 ms, total: 304 ms\n",
      "Wall time: 328 ms\n"
     ]
    }
   ],
   "source": [
    "# Specify no low memory check, since that was causing errors\n",
    "%%time\n",
    "\n",
    "df = pd.read_csv('subject_conversion.csv', low_memory=False)"
   ]
  },
  {
   "cell_type": "markdown",
   "metadata": {},
   "source": [
    "We can get some general info about the dataframe with the `info` method"
   ]
  },
  {
   "cell_type": "code",
   "execution_count": 11,
   "metadata": {
    "collapsed": false
   },
   "outputs": [
    {
     "name": "stdout",
     "output_type": "stream",
     "text": [
      "<class 'pandas.core.frame.DataFrame'>\n",
      "RangeIndex: 18749 entries, 0 to 18748\n",
      "Data columns (total 39 columns):\n",
      "Status                                 16939 non-null object\n",
      "old_ARK                                16939 non-null object\n",
      "old_predicate                          16939 non-null object\n",
      "new_predicate                          16938 non-null object\n",
      "predicate match                        16938 non-null object\n",
      "new_role                               945 non-null object\n",
      "old_label                              16938 non-null object\n",
      "updated_label                          16938 non-null object\n",
      "current DAMS_Label is correct          16938 non-null object\n",
      "Action                                 14204 non-null object\n",
      "ARK action                             549 non-null object\n",
      "Label action                           418 non-null object\n",
      "Note                                   49 non-null object\n",
      "clustering id                          13098 non-null object\n",
      "FAST_Label_Match_Updated_DAMS_Label    10829 non-null object\n",
      "FAST_Label                             11189 non-null object\n",
      "FAST_URI                               11191 non-null object\n",
      "LC_Label_Match_Updated_DAMS_Label      3648 non-null object\n",
      "LoC_Label                              3736 non-null object\n",
      "LoC_URI                                3735 non-null object\n",
      "AAT_Label_Match                        63 non-null object\n",
      "AAT_Label                              63 non-null object\n",
      "AAT_URI                                63 non-null object\n",
      "VIAF_Label_Match                       2106 non-null object\n",
      "VIAF_Label                             2272 non-null object\n",
      "VIAF_URI                               2273 non-null object\n",
      "MARC_tag                               10736 non-null float64\n",
      "Sample_Object_ARK                      16879 non-null object\n",
      "Object_Counts                          16938 non-null float64\n",
      "Parts                                  6591 non-null float64\n",
      "Part_order                             15798 non-null float64\n",
      "DAMS_ARK_Part_order                    16939 non-null object\n",
      "sort                                   16939 non-null float64\n",
      "source                                 16939 non-null object\n",
      "simple or complex                      16938 non-null object\n",
      "jj                                     2 non-null object\n",
      "wikipedia_link                         14 non-null object\n",
      "ll                                     37 non-null object\n",
      "mm                                     0 non-null float64\n",
      "dtypes: float64(6), object(33)\n",
      "memory usage: 5.6+ MB\n"
     ]
    }
   ],
   "source": [
    "df.info()"
   ]
  },
  {
   "cell_type": "markdown",
   "metadata": {},
   "source": [
    "We can get a sense of the row/column breakdown by using the `shape` method"
   ]
  },
  {
   "cell_type": "code",
   "execution_count": 5,
   "metadata": {
    "collapsed": false
   },
   "outputs": [
    {
     "data": {
      "text/plain": [
       "(18749, 39)"
      ]
     },
     "execution_count": 5,
     "metadata": {},
     "output_type": "execute_result"
    }
   ],
   "source": [
    "df.shape"
   ]
  },
  {
   "cell_type": "markdown",
   "metadata": {},
   "source": [
    "The number 18,749 is a bit misleading, and must be an instance of blank rows being counted (there's many things that can happen with even the best Excel->csv conversions). From the `.info` method above, we see there's really 16,938 non-null rows\n",
    "\n",
    "Now let's look at a little snippet at the beginning of the data"
   ]
  },
  {
   "cell_type": "code",
   "execution_count": 6,
   "metadata": {
    "collapsed": false
   },
   "outputs": [
    {
     "data": {
      "text/html": [
       "<div>\n",
       "<table border=\"1\" class=\"dataframe\">\n",
       "  <thead>\n",
       "    <tr style=\"text-align: right;\">\n",
       "      <th></th>\n",
       "      <th>Status</th>\n",
       "      <th>old_ARK</th>\n",
       "      <th>old_predicate</th>\n",
       "      <th>new_predicate</th>\n",
       "      <th>predicate match</th>\n",
       "      <th>new_role</th>\n",
       "      <th>old_label</th>\n",
       "      <th>updated_label</th>\n",
       "      <th>current DAMS_Label is correct</th>\n",
       "      <th>Action</th>\n",
       "      <th>...</th>\n",
       "      <th>Parts</th>\n",
       "      <th>Part_order</th>\n",
       "      <th>DAMS_ARK_Part_order</th>\n",
       "      <th>sort</th>\n",
       "      <th>source</th>\n",
       "      <th>simple or complex</th>\n",
       "      <th>jj</th>\n",
       "      <th>wikipedia_link</th>\n",
       "      <th>ll</th>\n",
       "      <th>mm</th>\n",
       "    </tr>\n",
       "  </thead>\n",
       "  <tbody>\n",
       "    <tr>\n",
       "      <th>0</th>\n",
       "      <td>split from complex no match</td>\n",
       "      <td>http://library.ucsd.edu/ark:/20775/bb0001382f</td>\n",
       "      <td>dams:complexSubject</td>\n",
       "      <td>dams:geographic</td>\n",
       "      <td>False</td>\n",
       "      <td>NaN</td>\n",
       "      <td>Rancho San Regis (Baja California, Mexico)</td>\n",
       "      <td>Rancho San Regis (Baja California, Mexico)</td>\n",
       "      <td>NaN</td>\n",
       "      <td>local</td>\n",
       "      <td>...</td>\n",
       "      <td>2.0</td>\n",
       "      <td>1.0</td>\n",
       "      <td>http://library.ucsd.edu/ark:/20775/bb0001382f-1</td>\n",
       "      <td>2.0</td>\n",
       "      <td>split from complex</td>\n",
       "      <td>complex</td>\n",
       "      <td>NaN</td>\n",
       "      <td>NaN</td>\n",
       "      <td>NaN</td>\n",
       "      <td>NaN</td>\n",
       "    </tr>\n",
       "    <tr>\n",
       "      <th>1</th>\n",
       "      <td>split from complex matched FAST</td>\n",
       "      <td>http://library.ucsd.edu/ark:/20775/bb0001382f</td>\n",
       "      <td>dams:complexSubject</td>\n",
       "      <td>dams:topic</td>\n",
       "      <td>False</td>\n",
       "      <td>NaN</td>\n",
       "      <td>Pictorial works</td>\n",
       "      <td>Pictorial works</td>\n",
       "      <td>True</td>\n",
       "      <td>FAST</td>\n",
       "      <td>...</td>\n",
       "      <td>NaN</td>\n",
       "      <td>2.0</td>\n",
       "      <td>http://library.ucsd.edu/ark:/20775/bb0001382f-2</td>\n",
       "      <td>3.0</td>\n",
       "      <td>split from complex</td>\n",
       "      <td>complex</td>\n",
       "      <td>NaN</td>\n",
       "      <td>NaN</td>\n",
       "      <td>NaN</td>\n",
       "      <td>NaN</td>\n",
       "    </tr>\n",
       "    <tr>\n",
       "      <th>2</th>\n",
       "      <td>original no match</td>\n",
       "      <td>http://library.ucsd.edu/ark:/20775/bb0001383z</td>\n",
       "      <td>dams:corporateName</td>\n",
       "      <td>dams:corporateName</td>\n",
       "      <td>True</td>\n",
       "      <td>NaN</td>\n",
       "      <td>University Communications, University of Calif...</td>\n",
       "      <td>University of California, San Diego. Universit...</td>\n",
       "      <td>False</td>\n",
       "      <td>VIAF</td>\n",
       "      <td>...</td>\n",
       "      <td>1.0</td>\n",
       "      <td>0.0</td>\n",
       "      <td>http://library.ucsd.edu/ark:/20775/bb0001383z</td>\n",
       "      <td>5.0</td>\n",
       "      <td>original</td>\n",
       "      <td>simple</td>\n",
       "      <td>NaN</td>\n",
       "      <td>NaN</td>\n",
       "      <td>NaN</td>\n",
       "      <td>NaN</td>\n",
       "    </tr>\n",
       "    <tr>\n",
       "      <th>3</th>\n",
       "      <td>split from complex no match</td>\n",
       "      <td>http://library.ucsd.edu/ark:/20775/bb0001384g</td>\n",
       "      <td>dams:complexSubject</td>\n",
       "      <td>dams:geographic</td>\n",
       "      <td>False</td>\n",
       "      <td>NaN</td>\n",
       "      <td>Pozo Alemán (Baja California, Mexico)</td>\n",
       "      <td>Pozo Alemán (Baja California, Mexico)</td>\n",
       "      <td>True</td>\n",
       "      <td>local</td>\n",
       "      <td>...</td>\n",
       "      <td>2.0</td>\n",
       "      <td>1.0</td>\n",
       "      <td>http://library.ucsd.edu/ark:/20775/bb0001384g-1</td>\n",
       "      <td>8.0</td>\n",
       "      <td>split from complex</td>\n",
       "      <td>complex</td>\n",
       "      <td>NaN</td>\n",
       "      <td>NaN</td>\n",
       "      <td>NaN</td>\n",
       "      <td>NaN</td>\n",
       "    </tr>\n",
       "    <tr>\n",
       "      <th>4</th>\n",
       "      <td>split from complex matched FAST</td>\n",
       "      <td>http://library.ucsd.edu/ark:/20775/bb0001384g</td>\n",
       "      <td>dams:complexSubject</td>\n",
       "      <td>dams:topic</td>\n",
       "      <td>False</td>\n",
       "      <td>NaN</td>\n",
       "      <td>Pictorial works</td>\n",
       "      <td>Pictorial works</td>\n",
       "      <td>True</td>\n",
       "      <td>FAST</td>\n",
       "      <td>...</td>\n",
       "      <td>NaN</td>\n",
       "      <td>2.0</td>\n",
       "      <td>http://library.ucsd.edu/ark:/20775/bb0001384g-2</td>\n",
       "      <td>9.0</td>\n",
       "      <td>split from complex</td>\n",
       "      <td>complex</td>\n",
       "      <td>NaN</td>\n",
       "      <td>NaN</td>\n",
       "      <td>NaN</td>\n",
       "      <td>NaN</td>\n",
       "    </tr>\n",
       "  </tbody>\n",
       "</table>\n",
       "<p>5 rows × 39 columns</p>\n",
       "</div>"
      ],
      "text/plain": [
       "                            Status  \\\n",
       "0      split from complex no match   \n",
       "1  split from complex matched FAST   \n",
       "2                original no match   \n",
       "3      split from complex no match   \n",
       "4  split from complex matched FAST   \n",
       "\n",
       "                                         old_ARK        old_predicate  \\\n",
       "0  http://library.ucsd.edu/ark:/20775/bb0001382f  dams:complexSubject   \n",
       "1  http://library.ucsd.edu/ark:/20775/bb0001382f  dams:complexSubject   \n",
       "2  http://library.ucsd.edu/ark:/20775/bb0001383z   dams:corporateName   \n",
       "3  http://library.ucsd.edu/ark:/20775/bb0001384g  dams:complexSubject   \n",
       "4  http://library.ucsd.edu/ark:/20775/bb0001384g  dams:complexSubject   \n",
       "\n",
       "        new_predicate predicate match new_role  \\\n",
       "0     dams:geographic           False      NaN   \n",
       "1          dams:topic           False      NaN   \n",
       "2  dams:corporateName            True      NaN   \n",
       "3     dams:geographic           False      NaN   \n",
       "4          dams:topic           False      NaN   \n",
       "\n",
       "                                           old_label  \\\n",
       "0         Rancho San Regis (Baja California, Mexico)   \n",
       "1                                    Pictorial works   \n",
       "2  University Communications, University of Calif...   \n",
       "3              Pozo Alemán (Baja California, Mexico)   \n",
       "4                                    Pictorial works   \n",
       "\n",
       "                                       updated_label  \\\n",
       "0         Rancho San Regis (Baja California, Mexico)   \n",
       "1                                    Pictorial works   \n",
       "2  University of California, San Diego. Universit...   \n",
       "3              Pozo Alemán (Baja California, Mexico)   \n",
       "4                                    Pictorial works   \n",
       "\n",
       "  current DAMS_Label is correct Action ... Parts Part_order  \\\n",
       "0                           NaN  local ...   2.0        1.0   \n",
       "1                          True   FAST ...   NaN        2.0   \n",
       "2                         False   VIAF ...   1.0        0.0   \n",
       "3                          True  local ...   2.0        1.0   \n",
       "4                          True   FAST ...   NaN        2.0   \n",
       "\n",
       "                               DAMS_ARK_Part_order sort              source  \\\n",
       "0  http://library.ucsd.edu/ark:/20775/bb0001382f-1  2.0  split from complex   \n",
       "1  http://library.ucsd.edu/ark:/20775/bb0001382f-2  3.0  split from complex   \n",
       "2    http://library.ucsd.edu/ark:/20775/bb0001383z  5.0            original   \n",
       "3  http://library.ucsd.edu/ark:/20775/bb0001384g-1  8.0  split from complex   \n",
       "4  http://library.ucsd.edu/ark:/20775/bb0001384g-2  9.0  split from complex   \n",
       "\n",
       "  simple or complex   jj wikipedia_link   ll  mm  \n",
       "0           complex  NaN            NaN  NaN NaN  \n",
       "1           complex  NaN            NaN  NaN NaN  \n",
       "2           simple   NaN            NaN  NaN NaN  \n",
       "3           complex  NaN            NaN  NaN NaN  \n",
       "4           complex  NaN            NaN  NaN NaN  \n",
       "\n",
       "[5 rows x 39 columns]"
      ]
     },
     "execution_count": 6,
     "metadata": {},
     "output_type": "execute_result"
    }
   ],
   "source": [
    "df.head()"
   ]
  },
  {
   "cell_type": "code",
   "execution_count": 17,
   "metadata": {
    "collapsed": false
   },
   "outputs": [
    {
     "data": {
      "text/plain": [
       "0           Rancho San Regis (Baja California, Mexico)\n",
       "1                                      Pictorial works\n",
       "2    University of California, San Diego. Universit...\n",
       "3                Pozo Alemán (Baja California, Mexico)\n",
       "4                                      Pictorial works\n",
       "Name: updated_label, dtype: object"
      ]
     },
     "execution_count": 17,
     "metadata": {},
     "output_type": "execute_result"
    }
   ],
   "source": [
    "df['updated_label'].head()"
   ]
  },
  {
   "cell_type": "code",
   "execution_count": 18,
   "metadata": {
    "collapsed": true
   },
   "outputs": [],
   "source": [
    "df_deduped = df.drop_duplicates(subset='updated_label', keep='first', inplace=False)"
   ]
  },
  {
   "cell_type": "code",
   "execution_count": 30,
   "metadata": {
    "collapsed": false
   },
   "outputs": [
    {
     "data": {
      "text/plain": [
       "(10018, 39)"
      ]
     },
     "execution_count": 30,
     "metadata": {},
     "output_type": "execute_result"
    }
   ],
   "source": [
    "# Original df.info (number of non-null rows) = 16,938\n",
    "df_deduped.shape"
   ]
  },
  {
   "cell_type": "code",
   "execution_count": 28,
   "metadata": {
    "collapsed": false
   },
   "outputs": [
    {
     "data": {
      "text/html": [
       "<div>\n",
       "<table border=\"1\" class=\"dataframe\">\n",
       "  <thead>\n",
       "    <tr style=\"text-align: right;\">\n",
       "      <th></th>\n",
       "      <th>Status</th>\n",
       "      <th>old_ARK</th>\n",
       "      <th>old_predicate</th>\n",
       "      <th>new_predicate</th>\n",
       "      <th>predicate match</th>\n",
       "      <th>new_role</th>\n",
       "      <th>old_label</th>\n",
       "      <th>updated_label</th>\n",
       "      <th>current DAMS_Label is correct</th>\n",
       "      <th>Action</th>\n",
       "      <th>...</th>\n",
       "      <th>Parts</th>\n",
       "      <th>Part_order</th>\n",
       "      <th>DAMS_ARK_Part_order</th>\n",
       "      <th>sort</th>\n",
       "      <th>source</th>\n",
       "      <th>simple or complex</th>\n",
       "      <th>jj</th>\n",
       "      <th>wikipedia_link</th>\n",
       "      <th>ll</th>\n",
       "      <th>mm</th>\n",
       "    </tr>\n",
       "  </thead>\n",
       "  <tbody>\n",
       "    <tr>\n",
       "      <th>60</th>\n",
       "      <td>original no match</td>\n",
       "      <td>http://library.ucsd.edu/ark:/20775/bb0035510q</td>\n",
       "      <td>dams:geographic</td>\n",
       "      <td>dams:geographic</td>\n",
       "      <td>True</td>\n",
       "      <td>NaN</td>\n",
       "      <td>Valle Trinidad (Baja California, Mexico)</td>\n",
       "      <td>Valle Trinidad (Baja California, Mexico)</td>\n",
       "      <td>True</td>\n",
       "      <td>local</td>\n",
       "      <td>...</td>\n",
       "      <td>1.0</td>\n",
       "      <td>0.0</td>\n",
       "      <td>http://library.ucsd.edu/ark:/20775/bb0035510q</td>\n",
       "      <td>118.0</td>\n",
       "      <td>original</td>\n",
       "      <td>simple</td>\n",
       "      <td>NaN</td>\n",
       "      <td>NaN</td>\n",
       "      <td>NaN</td>\n",
       "      <td>NaN</td>\n",
       "    </tr>\n",
       "    <tr>\n",
       "      <th>61</th>\n",
       "      <td>split from complex no match</td>\n",
       "      <td>http://library.ucsd.edu/ark:/20775/bb00355117</td>\n",
       "      <td>dams:complexSubject</td>\n",
       "      <td>dams:corporateName</td>\n",
       "      <td>False</td>\n",
       "      <td>NaN</td>\n",
       "      <td>Misión de Guadalupe (Baja California, Mexico)</td>\n",
       "      <td>Misión Nuestra Señora de Guadalupe del Norte...</td>\n",
       "      <td>False</td>\n",
       "      <td>VIAF</td>\n",
       "      <td>...</td>\n",
       "      <td>2.0</td>\n",
       "      <td>1.0</td>\n",
       "      <td>http://library.ucsd.edu/ark:/20775/bb00355117-1</td>\n",
       "      <td>121.0</td>\n",
       "      <td>split from complex</td>\n",
       "      <td>complex</td>\n",
       "      <td>NaN</td>\n",
       "      <td>NaN</td>\n",
       "      <td>NaN</td>\n",
       "      <td>NaN</td>\n",
       "    </tr>\n",
       "    <tr>\n",
       "      <th>63</th>\n",
       "      <td>split from complex matched FAST</td>\n",
       "      <td>http://library.ucsd.edu/ark:/20775/bb0035512r</td>\n",
       "      <td>dams:complexSubject</td>\n",
       "      <td>dams:topic</td>\n",
       "      <td>False</td>\n",
       "      <td>NaN</td>\n",
       "      <td>Refugees</td>\n",
       "      <td>Refugees</td>\n",
       "      <td>True</td>\n",
       "      <td>FAST</td>\n",
       "      <td>...</td>\n",
       "      <td>NaN</td>\n",
       "      <td>1.0</td>\n",
       "      <td>http://library.ucsd.edu/ark:/20775/bb0035512r-1</td>\n",
       "      <td>125.0</td>\n",
       "      <td>split from complex</td>\n",
       "      <td>complex</td>\n",
       "      <td>NaN</td>\n",
       "      <td>NaN</td>\n",
       "      <td>NaN</td>\n",
       "      <td>NaN</td>\n",
       "    </tr>\n",
       "    <tr>\n",
       "      <th>64</th>\n",
       "      <td>split from complex matched FAST</td>\n",
       "      <td>http://library.ucsd.edu/ark:/20775/bb0035512r</td>\n",
       "      <td>dams:complexSubject</td>\n",
       "      <td>dams:geographic</td>\n",
       "      <td>False</td>\n",
       "      <td>NaN</td>\n",
       "      <td>Spain</td>\n",
       "      <td>Spain</td>\n",
       "      <td>True</td>\n",
       "      <td>LoC</td>\n",
       "      <td>...</td>\n",
       "      <td>NaN</td>\n",
       "      <td>2.0</td>\n",
       "      <td>http://library.ucsd.edu/ark:/20775/bb0035512r-2</td>\n",
       "      <td>126.0</td>\n",
       "      <td>split from complex</td>\n",
       "      <td>complex</td>\n",
       "      <td>NaN</td>\n",
       "      <td>NaN</td>\n",
       "      <td>NaN</td>\n",
       "      <td>NaN</td>\n",
       "    </tr>\n",
       "    <tr>\n",
       "      <th>65</th>\n",
       "      <td>split from complex matched FAST</td>\n",
       "      <td>http://library.ucsd.edu/ark:/20775/bb00355138</td>\n",
       "      <td>dams:complexSubject</td>\n",
       "      <td>dams:topic</td>\n",
       "      <td>False</td>\n",
       "      <td>NaN</td>\n",
       "      <td>Amnesty</td>\n",
       "      <td>Amnesty</td>\n",
       "      <td>True</td>\n",
       "      <td>FAST</td>\n",
       "      <td>...</td>\n",
       "      <td>NaN</td>\n",
       "      <td>1.0</td>\n",
       "      <td>http://library.ucsd.edu/ark:/20775/bb00355138-1</td>\n",
       "      <td>129.0</td>\n",
       "      <td>split from complex</td>\n",
       "      <td>complex</td>\n",
       "      <td>NaN</td>\n",
       "      <td>NaN</td>\n",
       "      <td>NaN</td>\n",
       "      <td>NaN</td>\n",
       "    </tr>\n",
       "    <tr>\n",
       "      <th>68</th>\n",
       "      <td>split from complex matched FAST</td>\n",
       "      <td>http://library.ucsd.edu/ark:/20775/bb0035514s</td>\n",
       "      <td>dams:complexSubject</td>\n",
       "      <td>dams:personalName</td>\n",
       "      <td>False</td>\n",
       "      <td>subject</td>\n",
       "      <td>Franco, Francisco, 1892-1975</td>\n",
       "      <td>Franco, Francisco, 1892-1975</td>\n",
       "      <td>True</td>\n",
       "      <td>VIAF</td>\n",
       "      <td>...</td>\n",
       "      <td>2.0</td>\n",
       "      <td>1.0</td>\n",
       "      <td>http://library.ucsd.edu/ark:/20775/bb0035514s-1</td>\n",
       "      <td>134.0</td>\n",
       "      <td>split from complex</td>\n",
       "      <td>complex</td>\n",
       "      <td>NaN</td>\n",
       "      <td>NaN</td>\n",
       "      <td>NaN</td>\n",
       "      <td>NaN</td>\n",
       "    </tr>\n",
       "    <tr>\n",
       "      <th>69</th>\n",
       "      <td>split from complex matched FAST</td>\n",
       "      <td>http://library.ucsd.edu/ark:/20775/bb0035514s</td>\n",
       "      <td>dams:complexSubject</td>\n",
       "      <td>dams:topic</td>\n",
       "      <td>False</td>\n",
       "      <td>NaN</td>\n",
       "      <td>Caricatures and cartoons</td>\n",
       "      <td>Caricatures and cartoons</td>\n",
       "      <td>True</td>\n",
       "      <td>FAST</td>\n",
       "      <td>...</td>\n",
       "      <td>NaN</td>\n",
       "      <td>2.0</td>\n",
       "      <td>http://library.ucsd.edu/ark:/20775/bb0035514s-2</td>\n",
       "      <td>135.0</td>\n",
       "      <td>split from complex</td>\n",
       "      <td>complex</td>\n",
       "      <td>NaN</td>\n",
       "      <td>NaN</td>\n",
       "      <td>NaN</td>\n",
       "      <td>NaN</td>\n",
       "    </tr>\n",
       "    <tr>\n",
       "      <th>70</th>\n",
       "      <td>split from complex matched FAST</td>\n",
       "      <td>http://library.ucsd.edu/ark:/20775/bb00355159</td>\n",
       "      <td>dams:complexSubject</td>\n",
       "      <td>dams:topic</td>\n",
       "      <td>False</td>\n",
       "      <td>NaN</td>\n",
       "      <td>Ballot</td>\n",
       "      <td>Ballot</td>\n",
       "      <td>True</td>\n",
       "      <td>FAST</td>\n",
       "      <td>...</td>\n",
       "      <td>2.0</td>\n",
       "      <td>1.0</td>\n",
       "      <td>http://library.ucsd.edu/ark:/20775/bb00355159-1</td>\n",
       "      <td>138.0</td>\n",
       "      <td>split from complex</td>\n",
       "      <td>complex</td>\n",
       "      <td>NaN</td>\n",
       "      <td>NaN</td>\n",
       "      <td>NaN</td>\n",
       "      <td>NaN</td>\n",
       "    </tr>\n",
       "    <tr>\n",
       "      <th>71</th>\n",
       "      <td>split from complex matched FAST</td>\n",
       "      <td>http://library.ucsd.edu/ark:/20775/bb00355159</td>\n",
       "      <td>dams:complexSubject</td>\n",
       "      <td>dams:geographic</td>\n",
       "      <td>False</td>\n",
       "      <td>NaN</td>\n",
       "      <td>Costa Rica</td>\n",
       "      <td>Costa Rica</td>\n",
       "      <td>True</td>\n",
       "      <td>LoC</td>\n",
       "      <td>...</td>\n",
       "      <td>NaN</td>\n",
       "      <td>2.0</td>\n",
       "      <td>http://library.ucsd.edu/ark:/20775/bb00355159-2</td>\n",
       "      <td>139.0</td>\n",
       "      <td>split from complex</td>\n",
       "      <td>complex</td>\n",
       "      <td>NaN</td>\n",
       "      <td>NaN</td>\n",
       "      <td>NaN</td>\n",
       "      <td>NaN</td>\n",
       "    </tr>\n",
       "    <tr>\n",
       "      <th>72</th>\n",
       "      <td>split from complex matched FAST</td>\n",
       "      <td>http://library.ucsd.edu/ark:/20775/bb0035519c</td>\n",
       "      <td>dams:complexSubject</td>\n",
       "      <td>dams:topic</td>\n",
       "      <td>False</td>\n",
       "      <td>NaN</td>\n",
       "      <td>Missions</td>\n",
       "      <td>Missions</td>\n",
       "      <td>True</td>\n",
       "      <td>FAST</td>\n",
       "      <td>...</td>\n",
       "      <td>NaN</td>\n",
       "      <td>1.0</td>\n",
       "      <td>http://library.ucsd.edu/ark:/20775/bb0035519c-1</td>\n",
       "      <td>144.0</td>\n",
       "      <td>split from complex</td>\n",
       "      <td>complex</td>\n",
       "      <td>NaN</td>\n",
       "      <td>NaN</td>\n",
       "      <td>NaN</td>\n",
       "      <td>NaN</td>\n",
       "    </tr>\n",
       "  </tbody>\n",
       "</table>\n",
       "<p>10 rows × 39 columns</p>\n",
       "</div>"
      ],
      "text/plain": [
       "                             Status  \\\n",
       "60                original no match   \n",
       "61      split from complex no match   \n",
       "63  split from complex matched FAST   \n",
       "64  split from complex matched FAST   \n",
       "65  split from complex matched FAST   \n",
       "68  split from complex matched FAST   \n",
       "69  split from complex matched FAST   \n",
       "70  split from complex matched FAST   \n",
       "71  split from complex matched FAST   \n",
       "72  split from complex matched FAST   \n",
       "\n",
       "                                          old_ARK        old_predicate  \\\n",
       "60  http://library.ucsd.edu/ark:/20775/bb0035510q      dams:geographic   \n",
       "61  http://library.ucsd.edu/ark:/20775/bb00355117  dams:complexSubject   \n",
       "63  http://library.ucsd.edu/ark:/20775/bb0035512r  dams:complexSubject   \n",
       "64  http://library.ucsd.edu/ark:/20775/bb0035512r  dams:complexSubject   \n",
       "65  http://library.ucsd.edu/ark:/20775/bb00355138  dams:complexSubject   \n",
       "68  http://library.ucsd.edu/ark:/20775/bb0035514s  dams:complexSubject   \n",
       "69  http://library.ucsd.edu/ark:/20775/bb0035514s  dams:complexSubject   \n",
       "70  http://library.ucsd.edu/ark:/20775/bb00355159  dams:complexSubject   \n",
       "71  http://library.ucsd.edu/ark:/20775/bb00355159  dams:complexSubject   \n",
       "72  http://library.ucsd.edu/ark:/20775/bb0035519c  dams:complexSubject   \n",
       "\n",
       "         new_predicate predicate match new_role  \\\n",
       "60     dams:geographic            True      NaN   \n",
       "61  dams:corporateName           False      NaN   \n",
       "63          dams:topic           False      NaN   \n",
       "64     dams:geographic           False      NaN   \n",
       "65          dams:topic           False      NaN   \n",
       "68   dams:personalName           False  subject   \n",
       "69          dams:topic           False      NaN   \n",
       "70          dams:topic           False      NaN   \n",
       "71     dams:geographic           False      NaN   \n",
       "72          dams:topic           False      NaN   \n",
       "\n",
       "                                        old_label  \\\n",
       "60       Valle Trinidad (Baja California, Mexico)   \n",
       "61  Misión de Guadalupe (Baja California, Mexico)   \n",
       "63                                       Refugees   \n",
       "64                                          Spain   \n",
       "65                                        Amnesty   \n",
       "68                   Franco, Francisco, 1892-1975   \n",
       "69                       Caricatures and cartoons   \n",
       "70                                         Ballot   \n",
       "71                                     Costa Rica   \n",
       "72                                       Missions   \n",
       "\n",
       "                                        updated_label  \\\n",
       "60           Valle Trinidad (Baja California, Mexico)   \n",
       "61  Misión Nuestra Señora de Guadalupe del Norte...   \n",
       "63                                           Refugees   \n",
       "64                                              Spain   \n",
       "65                                            Amnesty   \n",
       "68                       Franco, Francisco, 1892-1975   \n",
       "69                           Caricatures and cartoons   \n",
       "70                                             Ballot   \n",
       "71                                         Costa Rica   \n",
       "72                                           Missions   \n",
       "\n",
       "   current DAMS_Label is correct Action ... Parts Part_order  \\\n",
       "60                          True  local ...   1.0        0.0   \n",
       "61                         False   VIAF ...   2.0        1.0   \n",
       "63                          True   FAST ...   NaN        1.0   \n",
       "64                          True    LoC ...   NaN        2.0   \n",
       "65                          True   FAST ...   NaN        1.0   \n",
       "68                          True   VIAF ...   2.0        1.0   \n",
       "69                          True   FAST ...   NaN        2.0   \n",
       "70                          True   FAST ...   2.0        1.0   \n",
       "71                          True    LoC ...   NaN        2.0   \n",
       "72                          True   FAST ...   NaN        1.0   \n",
       "\n",
       "                                DAMS_ARK_Part_order   sort  \\\n",
       "60    http://library.ucsd.edu/ark:/20775/bb0035510q  118.0   \n",
       "61  http://library.ucsd.edu/ark:/20775/bb00355117-1  121.0   \n",
       "63  http://library.ucsd.edu/ark:/20775/bb0035512r-1  125.0   \n",
       "64  http://library.ucsd.edu/ark:/20775/bb0035512r-2  126.0   \n",
       "65  http://library.ucsd.edu/ark:/20775/bb00355138-1  129.0   \n",
       "68  http://library.ucsd.edu/ark:/20775/bb0035514s-1  134.0   \n",
       "69  http://library.ucsd.edu/ark:/20775/bb0035514s-2  135.0   \n",
       "70  http://library.ucsd.edu/ark:/20775/bb00355159-1  138.0   \n",
       "71  http://library.ucsd.edu/ark:/20775/bb00355159-2  139.0   \n",
       "72  http://library.ucsd.edu/ark:/20775/bb0035519c-1  144.0   \n",
       "\n",
       "                source simple or complex   jj wikipedia_link   ll  mm  \n",
       "60            original           simple   NaN            NaN  NaN NaN  \n",
       "61  split from complex           complex  NaN            NaN  NaN NaN  \n",
       "63  split from complex           complex  NaN            NaN  NaN NaN  \n",
       "64  split from complex           complex  NaN            NaN  NaN NaN  \n",
       "65  split from complex           complex  NaN            NaN  NaN NaN  \n",
       "68  split from complex           complex  NaN            NaN  NaN NaN  \n",
       "69  split from complex           complex  NaN            NaN  NaN NaN  \n",
       "70  split from complex           complex  NaN            NaN  NaN NaN  \n",
       "71  split from complex           complex  NaN            NaN  NaN NaN  \n",
       "72  split from complex           complex  NaN            NaN  NaN NaN  \n",
       "\n",
       "[10 rows x 39 columns]"
      ]
     },
     "execution_count": 28,
     "metadata": {},
     "output_type": "execute_result"
    }
   ],
   "source": [
    "df_deduped[55:65]"
   ]
  },
  {
   "cell_type": "markdown",
   "metadata": {},
   "source": [
    "# Now it's time for Excel\n",
    "We'll do basically what we did above, but read the original Excel file and attempt no conversions"
   ]
  },
  {
   "cell_type": "code",
   "execution_count": 25,
   "metadata": {
    "collapsed": false
   },
   "outputs": [
    {
     "name": "stdout",
     "output_type": "stream",
     "text": [
      "CPU times: user 12.1 s, sys: 132 ms, total: 12.3 s\n",
      "Wall time: 12.6 s\n"
     ]
    }
   ],
   "source": [
    "%%time\n",
    "dfe = pd.read_excel(\"combined_subject_conversion_file.xlsx\", sheetname='ALL EM')"
   ]
  },
  {
   "cell_type": "markdown",
   "metadata": {},
   "source": [
    "### First goal: dropping some rows\n",
    "Filter out / drop all complex objects, then proceed to dedupe as above.  \n",
    "But first, let's do the usual data info check"
   ]
  },
  {
   "cell_type": "code",
   "execution_count": 29,
   "metadata": {
    "collapsed": false
   },
   "outputs": [
    {
     "data": {
      "text/plain": [
       "(16939, 38)"
      ]
     },
     "execution_count": 29,
     "metadata": {},
     "output_type": "execute_result"
    }
   ],
   "source": [
    "dfe.shape"
   ]
  },
  {
   "cell_type": "code",
   "execution_count": 27,
   "metadata": {
    "collapsed": false
   },
   "outputs": [
    {
     "data": {
      "text/plain": [
       "<bound method NDFrame.head of 0               Rancho San Regis (Baja California, Mexico)\n",
       "1                                          Pictorial works\n",
       "2        University of California, San Diego. Universit...\n",
       "3                    Pozo Alemán (Baja California, Mexico)\n",
       "4                                          Pictorial works\n",
       "5                        Chimbu (Papua New Guinean people)\n",
       "6                                                   Poetry\n",
       "7                                           Projection art\n",
       "8                                      Munk, Judith Horton\n",
       "9                                 Dill, Robert F. (1927- )\n",
       "10                                                   Drama\n",
       "11                               Revelle, Ellen, 1910-2009\n",
       "12                                                    Lava\n",
       "13                                      Lockwood, Karen F.\n",
       "14                                Hills, Scott Jean, 1955-\n",
       "15          Kofoid, Charles A. (Charles Atwood), 1865-1947\n",
       "16                             Van Atta, Charles W., 1934-\n",
       "17                                            Submersibles\n",
       "18                                       Coronado (Calif.)\n",
       "19                                         Pictorial works\n",
       "20                                                 Lagoons\n",
       "21                                             Wake Island\n",
       "22                                Boeseman, Marinus, 1916-\n",
       "23                                     Grand Pacific Hotel\n",
       "24                                Dill, Robert F. (1927- )\n",
       "25                                                  Shells\n",
       "26                                     South Pacific Ocean\n",
       "27                       University of California (System)\n",
       "28             Internationale (Degeyter, Pierre Chrétien)\n",
       "29                                                 History\n",
       "                               ...                        \n",
       "16909                              WaveWare Communications\n",
       "16910                                 Weather Station Papa\n",
       "16911                                  Wei-Chung Allen Lee\n",
       "16912                                        West Virginia\n",
       "16913                      West Virginia (Armored cruiser)\n",
       "16914                                      Whitcomb, Susie\n",
       "16915                                       White, Fred M.\n",
       "16916                                   White, Mary Yawkey\n",
       "16917                                    Whittier (Calif.)\n",
       "16918             Wilshire Boulevard (Los Angeles, Calif.)\n",
       "16919                                     Wilson, James M.\n",
       "16920                      Wind ensembles (Musical groups)\n",
       "16921                                    Windward Ventures\n",
       "16922                                                 Wine\n",
       "16923                                             Wineries\n",
       "16924                       Wireless communication systems\n",
       "16925                                        Wishing wells\n",
       "16926                                      Wister, Owen J.\n",
       "16927                              Wohlford, Lake (Calif.)\n",
       "16928                                  Wooden-frame houses\n",
       "16929                                World War (1914-1918)\n",
       "16930                             X-ray fluorescence (XRF)\n",
       "16931                                      Yelapa (Mexico)\n",
       "16932                      Yosemite National Park (Calif.)\n",
       "16933                                              Yttrium\n",
       "16934                                                Yucca\n",
       "16935                                         Zablocki, RW\n",
       "16936                                   Zacatecas (Mexico)\n",
       "16937                                      Zanjon (Mexico)\n",
       "16938                                                  NaN\n",
       "Name: updated_label, dtype: object>"
      ]
     },
     "execution_count": 27,
     "metadata": {},
     "output_type": "execute_result"
    }
   ],
   "source": [
    "dfe['updated_label'].head"
   ]
  },
  {
   "cell_type": "code",
   "execution_count": null,
   "metadata": {
    "collapsed": true
   },
   "outputs": [],
   "source": []
  }
 ],
 "metadata": {
  "anaconda-cloud": {},
  "kernelspec": {
   "display_name": "Python [Root]",
   "language": "python",
   "name": "Python [Root]"
  },
  "language_info": {
   "codemirror_mode": {
    "name": "ipython",
    "version": 3
   },
   "file_extension": ".py",
   "mimetype": "text/x-python",
   "name": "python",
   "nbconvert_exporter": "python",
   "pygments_lexer": "ipython3",
   "version": "3.5.2"
  }
 },
 "nbformat": 4,
 "nbformat_minor": 0
}
