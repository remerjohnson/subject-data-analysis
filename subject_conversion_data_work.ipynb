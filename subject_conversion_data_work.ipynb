{
 "cells": [
  {
   "cell_type": "markdown",
   "metadata": {},
   "source": [
    "# Subject Conversion data work with `pandas`\n",
    "\n",
    "This is a notebook to work with our subject reconciliation data and start to analyze it a bit. Maybe clean it in certain ways, too.\n"
   ]
  },
  {
   "cell_type": "code",
   "execution_count": 1,
   "metadata": {
    "collapsed": true
   },
   "outputs": [],
   "source": [
    "import pandas as pd"
   ]
  },
  {
   "cell_type": "markdown",
   "metadata": {},
   "source": [
    "## Starting off the csv way\n",
    "(Hey, it's what I know best! We can try to replicate in Excel next)  \n",
    "After we get pandas set up, let's first see if the data is ready:"
   ]
  },
  {
   "cell_type": "code",
   "execution_count": 2,
   "metadata": {
    "collapsed": false
   },
   "outputs": [
    {
     "name": "stdout",
     "output_type": "stream",
     "text": [
      "Status,old_ARK,old_predicate,new_predicate,predicate match,new_role,old_label,updated_label,current DAMS_Label is correct,Action,ARK action ,Label action ,Note,clustering id,FAST_Label_Match_Updated_DAMS_Label,FAST_Label,FAST_URI,LC_Label_Match_Updated_DAMS_Label,LoC_Label,LoC_URI,AAT_Label_Match,AAT_Label,AAT_URI,VIAF_Label_Match,VIAF_Label,VIAF_URI,MARC_tag,Sample_Object_ARK,Object_Counts,Parts,Part_order,DAMS_ARK_Part_order,sort,source,simple or complex,jj,wikipedia_link,ll,mm\n",
      "split from complex no match,http://library.ucsd.edu/ark:/20775/bb0001382f,dams:complexSubject,dams:geographic,False,,\"Rancho San Regis (Baja California, Mexico)\",\"Rancho San Regis (Baja California, Mexico)\",,local,,,,,,,,,,,,,,,,,,http://library.ucsd.edu/dc/object/bb98306314,2,2,1,http://library.ucsd.edu/ark:/20775/bb0001382f-1,2,split from complex,complex,,,,\n",
      "split from complex matched FAST,http://library.ucsd.edu/ark:/20775/bb0001382f,dams:complexSubject,dams:topic,False,,Pictorial works,Pictorial works,True,FAST,,,,http://id.worldcat.org/fast/1423874,True,Pictorial works,http://id.worldcat.org/fast/1423874,,,,,,,,,,155,http://library.ucsd.edu/dc/object/bb98306314,2,,2,http://library.ucsd.edu/ark:/20775/bb0001382f-2,3,split from complex,complex,,,,\n",
      "original no match,http://library.ucsd.edu/ark:/20775/bb0001383z,dams:corporateName,dams:corporateName,True,,\"University Communications, University of California, San Diego\",\"University of California, San Diego. University Communications Office\",False,VIAF,,,,http://viaf.org/viaf/307452573,,,,,,,,,,False,\"University of California, San Diego. University Communications Office\",http://viaf.org/viaf/307452573,,http://library.ucsd.edu/dc/object/bb78169297,1,1,0,http://library.ucsd.edu/ark:/20775/bb0001383z,5,original,simple ,,,,\n",
      "split from complex no match,http://library.ucsd.edu/ark:/20775/bb0001384g,dams:complexSubject,dams:geographic,False,,\"Pozo Alemán (Baja California, Mexico)\",\"Pozo Alemán (Baja California, Mexico)\",True,local,,,,,,,,,,,,,,,,,,http://library.ucsd.edu/dc/object/bb3960282w,8,2,1,http://library.ucsd.edu/ark:/20775/bb0001384g-1,8,split from complex,complex,,,,\n",
      "split from complex matched FAST,http://library.ucsd.edu/ark:/20775/bb0001384g,dams:complexSubject,dams:topic,False,,Pictorial works,Pictorial works,True,FAST,,,,http://id.worldcat.org/fast/1423874,True,Pictorial works,http://id.worldcat.org/fast/1423874,,,,,,,,,,155,http://library.ucsd.edu/dc/object/bb3960282w,8,,2,http://library.ucsd.edu/ark:/20775/bb0001384g-2,9,split from complex,complex,,,,\n",
      "original matched FAST,http://library.ucsd.edu/ark:/20775/bb00013892,dams:topic,dams:topic,True,,Chimbu (Papua New Guinean people),Chimbu (Papua New Guinean people),True,FAST,,,,http://id.worldcat.org/fast/1430035,True,Chimbu (Papua New Guinean people),http://id.worldcat.org/fast/1430035,,,,,,,,,,150,http://library.ucsd.edu/dc/object/bb8670247f,4,1,0,http://library.ucsd.edu/ark:/20775/bb00013892,11,original,simple ,,,,\n",
      "original matched FAST,http://library.ucsd.edu/ark:/20775/bb0001450d,dams:topic,dams:topic,True,,Poetry,Poetry,True,FAST,,,,http://id.worldcat.org/fast/1067691,True,Poetry,http://id.worldcat.org/fast/1067691,,,,,,,,,,155,http://library.ucsd.edu/dc/object/bb8909050h,69,,0,http://library.ucsd.edu/ark:/20775/bb0001450d,13,original,simple ,,,,\n",
      "original matched FAST,http://library.ucsd.edu/ark:/20775/bb0001453z,dams:topic,dams:topic,True,,Projection art,Projection art,True,FAST,,,,http://id.worldcat.org/fast/1078833,True,Projection art,http://id.worldcat.org/fast/1078833,,,,,,,,,,150,http://library.ucsd.edu/dc/object/bb1503244z,11,,0,http://library.ucsd.edu/ark:/20775/bb0001453z,15,original,simple ,,,,\n",
      "original no match,http://library.ucsd.edu/ark:/20775/bb00014550,dams:personalName,dams:personalName,True,,\"Munk, Judith Horton\",\"Munk, Judith Horton\",True,,,,,,,,,,,,,,,,,,,http://library.ucsd.edu/dc/object/bb4301417c,10,1,0,http://library.ucsd.edu/ark:/20775/bb00014550,17,original,simple ,,,,\n"
     ]
    }
   ],
   "source": [
    "!head subject_conversion.csv"
   ]
  },
  {
   "cell_type": "markdown",
   "metadata": {},
   "source": [
    "Now let's get `pandas` to get this as a dataframe and show us a snippet. We'll use the magic `%timeit` which will tell us how quickly this large-ish (>3MB) csv will become a dataframe"
   ]
  },
  {
   "cell_type": "code",
   "execution_count": 3,
   "metadata": {
    "collapsed": false
   },
   "outputs": [],
   "source": [
    "# Specify no low memory check, since that was causing errors\n",
    "df = pd.read_csv('subject_conversion.csv', low_memory=False)"
   ]
  },
  {
   "cell_type": "markdown",
   "metadata": {},
   "source": [
    "We can get some general info about the dataframe with the `info` method"
   ]
  },
  {
   "cell_type": "code",
   "execution_count": 4,
   "metadata": {
    "collapsed": false
   },
   "outputs": [
    {
     "name": "stdout",
     "output_type": "stream",
     "text": [
      "<class 'pandas.core.frame.DataFrame'>\n",
      "RangeIndex: 18749 entries, 0 to 18748\n",
      "Data columns (total 39 columns):\n",
      "Status                                 16939 non-null object\n",
      "old_ARK                                16939 non-null object\n",
      "old_predicate                          16939 non-null object\n",
      "new_predicate                          16938 non-null object\n",
      "predicate match                        16938 non-null object\n",
      "new_role                               945 non-null object\n",
      "old_label                              16938 non-null object\n",
      "updated_label                          16938 non-null object\n",
      "current DAMS_Label is correct          16938 non-null object\n",
      "Action                                 14204 non-null object\n",
      "ARK action                             549 non-null object\n",
      "Label action                           418 non-null object\n",
      "Note                                   49 non-null object\n",
      "clustering id                          13098 non-null object\n",
      "FAST_Label_Match_Updated_DAMS_Label    10829 non-null object\n",
      "FAST_Label                             11189 non-null object\n",
      "FAST_URI                               11191 non-null object\n",
      "LC_Label_Match_Updated_DAMS_Label      3648 non-null object\n",
      "LoC_Label                              3736 non-null object\n",
      "LoC_URI                                3735 non-null object\n",
      "AAT_Label_Match                        63 non-null object\n",
      "AAT_Label                              63 non-null object\n",
      "AAT_URI                                63 non-null object\n",
      "VIAF_Label_Match                       2106 non-null object\n",
      "VIAF_Label                             2272 non-null object\n",
      "VIAF_URI                               2273 non-null object\n",
      "MARC_tag                               10736 non-null float64\n",
      "Sample_Object_ARK                      16879 non-null object\n",
      "Object_Counts                          16938 non-null float64\n",
      "Parts                                  6591 non-null float64\n",
      "Part_order                             15798 non-null float64\n",
      "DAMS_ARK_Part_order                    16939 non-null object\n",
      "sort                                   16939 non-null float64\n",
      "source                                 16939 non-null object\n",
      "simple or complex                      16938 non-null object\n",
      "jj                                     2 non-null object\n",
      "wikipedia_link                         14 non-null object\n",
      "ll                                     37 non-null object\n",
      "mm                                     0 non-null float64\n",
      "dtypes: float64(6), object(33)\n",
      "memory usage: 5.6+ MB\n"
     ]
    }
   ],
   "source": [
    "df.info()"
   ]
  },
  {
   "cell_type": "markdown",
   "metadata": {},
   "source": [
    "We can get a sense of the row/column breakdown by using the `shape` method"
   ]
  },
  {
   "cell_type": "code",
   "execution_count": 5,
   "metadata": {
    "collapsed": false
   },
   "outputs": [
    {
     "data": {
      "text/plain": [
       "(18749, 39)"
      ]
     },
     "execution_count": 5,
     "metadata": {},
     "output_type": "execute_result"
    }
   ],
   "source": [
    "df.shape"
   ]
  },
  {
   "cell_type": "markdown",
   "metadata": {},
   "source": [
    "The number 18,749 is a bit misleading, and must be an instance of blank rows being counted (there's many things that can happen with even the best Excel->csv conversions). From the `.info` method above, we see there's really 16,938 non-null rows\n",
    "\n",
    "Now let's look at a little snippet at the beginning of the data"
   ]
  },
  {
   "cell_type": "code",
   "execution_count": 6,
   "metadata": {
    "collapsed": false
   },
   "outputs": [
    {
     "data": {
      "text/html": [
       "<div>\n",
       "<style scoped>\n",
       "    .dataframe tbody tr th:only-of-type {\n",
       "        vertical-align: middle;\n",
       "    }\n",
       "\n",
       "    .dataframe tbody tr th {\n",
       "        vertical-align: top;\n",
       "    }\n",
       "\n",
       "    .dataframe thead th {\n",
       "        text-align: right;\n",
       "    }\n",
       "</style>\n",
       "<table border=\"1\" class=\"dataframe\">\n",
       "  <thead>\n",
       "    <tr style=\"text-align: right;\">\n",
       "      <th></th>\n",
       "      <th>Status</th>\n",
       "      <th>old_ARK</th>\n",
       "      <th>old_predicate</th>\n",
       "      <th>new_predicate</th>\n",
       "      <th>predicate match</th>\n",
       "      <th>new_role</th>\n",
       "      <th>old_label</th>\n",
       "      <th>updated_label</th>\n",
       "      <th>current DAMS_Label is correct</th>\n",
       "      <th>Action</th>\n",
       "      <th>...</th>\n",
       "      <th>Parts</th>\n",
       "      <th>Part_order</th>\n",
       "      <th>DAMS_ARK_Part_order</th>\n",
       "      <th>sort</th>\n",
       "      <th>source</th>\n",
       "      <th>simple or complex</th>\n",
       "      <th>jj</th>\n",
       "      <th>wikipedia_link</th>\n",
       "      <th>ll</th>\n",
       "      <th>mm</th>\n",
       "    </tr>\n",
       "  </thead>\n",
       "  <tbody>\n",
       "    <tr>\n",
       "      <th>0</th>\n",
       "      <td>split from complex no match</td>\n",
       "      <td>http://library.ucsd.edu/ark:/20775/bb0001382f</td>\n",
       "      <td>dams:complexSubject</td>\n",
       "      <td>dams:geographic</td>\n",
       "      <td>False</td>\n",
       "      <td>NaN</td>\n",
       "      <td>Rancho San Regis (Baja California, Mexico)</td>\n",
       "      <td>Rancho San Regis (Baja California, Mexico)</td>\n",
       "      <td>NaN</td>\n",
       "      <td>local</td>\n",
       "      <td>...</td>\n",
       "      <td>2.0</td>\n",
       "      <td>1.0</td>\n",
       "      <td>http://library.ucsd.edu/ark:/20775/bb0001382f-1</td>\n",
       "      <td>2.0</td>\n",
       "      <td>split from complex</td>\n",
       "      <td>complex</td>\n",
       "      <td>NaN</td>\n",
       "      <td>NaN</td>\n",
       "      <td>NaN</td>\n",
       "      <td>NaN</td>\n",
       "    </tr>\n",
       "    <tr>\n",
       "      <th>1</th>\n",
       "      <td>split from complex matched FAST</td>\n",
       "      <td>http://library.ucsd.edu/ark:/20775/bb0001382f</td>\n",
       "      <td>dams:complexSubject</td>\n",
       "      <td>dams:topic</td>\n",
       "      <td>False</td>\n",
       "      <td>NaN</td>\n",
       "      <td>Pictorial works</td>\n",
       "      <td>Pictorial works</td>\n",
       "      <td>True</td>\n",
       "      <td>FAST</td>\n",
       "      <td>...</td>\n",
       "      <td>NaN</td>\n",
       "      <td>2.0</td>\n",
       "      <td>http://library.ucsd.edu/ark:/20775/bb0001382f-2</td>\n",
       "      <td>3.0</td>\n",
       "      <td>split from complex</td>\n",
       "      <td>complex</td>\n",
       "      <td>NaN</td>\n",
       "      <td>NaN</td>\n",
       "      <td>NaN</td>\n",
       "      <td>NaN</td>\n",
       "    </tr>\n",
       "    <tr>\n",
       "      <th>2</th>\n",
       "      <td>original no match</td>\n",
       "      <td>http://library.ucsd.edu/ark:/20775/bb0001383z</td>\n",
       "      <td>dams:corporateName</td>\n",
       "      <td>dams:corporateName</td>\n",
       "      <td>True</td>\n",
       "      <td>NaN</td>\n",
       "      <td>University Communications, University of Calif...</td>\n",
       "      <td>University of California, San Diego. Universit...</td>\n",
       "      <td>False</td>\n",
       "      <td>VIAF</td>\n",
       "      <td>...</td>\n",
       "      <td>1.0</td>\n",
       "      <td>0.0</td>\n",
       "      <td>http://library.ucsd.edu/ark:/20775/bb0001383z</td>\n",
       "      <td>5.0</td>\n",
       "      <td>original</td>\n",
       "      <td>simple</td>\n",
       "      <td>NaN</td>\n",
       "      <td>NaN</td>\n",
       "      <td>NaN</td>\n",
       "      <td>NaN</td>\n",
       "    </tr>\n",
       "    <tr>\n",
       "      <th>3</th>\n",
       "      <td>split from complex no match</td>\n",
       "      <td>http://library.ucsd.edu/ark:/20775/bb0001384g</td>\n",
       "      <td>dams:complexSubject</td>\n",
       "      <td>dams:geographic</td>\n",
       "      <td>False</td>\n",
       "      <td>NaN</td>\n",
       "      <td>Pozo Alemán (Baja California, Mexico)</td>\n",
       "      <td>Pozo Alemán (Baja California, Mexico)</td>\n",
       "      <td>True</td>\n",
       "      <td>local</td>\n",
       "      <td>...</td>\n",
       "      <td>2.0</td>\n",
       "      <td>1.0</td>\n",
       "      <td>http://library.ucsd.edu/ark:/20775/bb0001384g-1</td>\n",
       "      <td>8.0</td>\n",
       "      <td>split from complex</td>\n",
       "      <td>complex</td>\n",
       "      <td>NaN</td>\n",
       "      <td>NaN</td>\n",
       "      <td>NaN</td>\n",
       "      <td>NaN</td>\n",
       "    </tr>\n",
       "    <tr>\n",
       "      <th>4</th>\n",
       "      <td>split from complex matched FAST</td>\n",
       "      <td>http://library.ucsd.edu/ark:/20775/bb0001384g</td>\n",
       "      <td>dams:complexSubject</td>\n",
       "      <td>dams:topic</td>\n",
       "      <td>False</td>\n",
       "      <td>NaN</td>\n",
       "      <td>Pictorial works</td>\n",
       "      <td>Pictorial works</td>\n",
       "      <td>True</td>\n",
       "      <td>FAST</td>\n",
       "      <td>...</td>\n",
       "      <td>NaN</td>\n",
       "      <td>2.0</td>\n",
       "      <td>http://library.ucsd.edu/ark:/20775/bb0001384g-2</td>\n",
       "      <td>9.0</td>\n",
       "      <td>split from complex</td>\n",
       "      <td>complex</td>\n",
       "      <td>NaN</td>\n",
       "      <td>NaN</td>\n",
       "      <td>NaN</td>\n",
       "      <td>NaN</td>\n",
       "    </tr>\n",
       "  </tbody>\n",
       "</table>\n",
       "<p>5 rows × 39 columns</p>\n",
       "</div>"
      ],
      "text/plain": [
       "                            Status  \\\n",
       "0      split from complex no match   \n",
       "1  split from complex matched FAST   \n",
       "2                original no match   \n",
       "3      split from complex no match   \n",
       "4  split from complex matched FAST   \n",
       "\n",
       "                                         old_ARK        old_predicate  \\\n",
       "0  http://library.ucsd.edu/ark:/20775/bb0001382f  dams:complexSubject   \n",
       "1  http://library.ucsd.edu/ark:/20775/bb0001382f  dams:complexSubject   \n",
       "2  http://library.ucsd.edu/ark:/20775/bb0001383z   dams:corporateName   \n",
       "3  http://library.ucsd.edu/ark:/20775/bb0001384g  dams:complexSubject   \n",
       "4  http://library.ucsd.edu/ark:/20775/bb0001384g  dams:complexSubject   \n",
       "\n",
       "        new_predicate predicate match new_role  \\\n",
       "0     dams:geographic           False      NaN   \n",
       "1          dams:topic           False      NaN   \n",
       "2  dams:corporateName            True      NaN   \n",
       "3     dams:geographic           False      NaN   \n",
       "4          dams:topic           False      NaN   \n",
       "\n",
       "                                           old_label  \\\n",
       "0         Rancho San Regis (Baja California, Mexico)   \n",
       "1                                    Pictorial works   \n",
       "2  University Communications, University of Calif...   \n",
       "3              Pozo Alemán (Baja California, Mexico)   \n",
       "4                                    Pictorial works   \n",
       "\n",
       "                                       updated_label  \\\n",
       "0         Rancho San Regis (Baja California, Mexico)   \n",
       "1                                    Pictorial works   \n",
       "2  University of California, San Diego. Universit...   \n",
       "3              Pozo Alemán (Baja California, Mexico)   \n",
       "4                                    Pictorial works   \n",
       "\n",
       "  current DAMS_Label is correct Action ... Parts Part_order  \\\n",
       "0                           NaN  local ...   2.0        1.0   \n",
       "1                          True   FAST ...   NaN        2.0   \n",
       "2                         False   VIAF ...   1.0        0.0   \n",
       "3                          True  local ...   2.0        1.0   \n",
       "4                          True   FAST ...   NaN        2.0   \n",
       "\n",
       "                               DAMS_ARK_Part_order sort              source  \\\n",
       "0  http://library.ucsd.edu/ark:/20775/bb0001382f-1  2.0  split from complex   \n",
       "1  http://library.ucsd.edu/ark:/20775/bb0001382f-2  3.0  split from complex   \n",
       "2    http://library.ucsd.edu/ark:/20775/bb0001383z  5.0            original   \n",
       "3  http://library.ucsd.edu/ark:/20775/bb0001384g-1  8.0  split from complex   \n",
       "4  http://library.ucsd.edu/ark:/20775/bb0001384g-2  9.0  split from complex   \n",
       "\n",
       "  simple or complex   jj wikipedia_link   ll  mm  \n",
       "0           complex  NaN            NaN  NaN NaN  \n",
       "1           complex  NaN            NaN  NaN NaN  \n",
       "2           simple   NaN            NaN  NaN NaN  \n",
       "3           complex  NaN            NaN  NaN NaN  \n",
       "4           complex  NaN            NaN  NaN NaN  \n",
       "\n",
       "[5 rows x 39 columns]"
      ]
     },
     "execution_count": 6,
     "metadata": {},
     "output_type": "execute_result"
    }
   ],
   "source": [
    "df.head()"
   ]
  },
  {
   "cell_type": "code",
   "execution_count": 7,
   "metadata": {
    "collapsed": false
   },
   "outputs": [
    {
     "data": {
      "text/plain": [
       "0           Rancho San Regis (Baja California, Mexico)\n",
       "1                                      Pictorial works\n",
       "2    University of California, San Diego. Universit...\n",
       "3                Pozo Alemán (Baja California, Mexico)\n",
       "4                                      Pictorial works\n",
       "Name: updated_label, dtype: object"
      ]
     },
     "execution_count": 7,
     "metadata": {},
     "output_type": "execute_result"
    }
   ],
   "source": [
    "df['updated_label'].head()"
   ]
  },
  {
   "cell_type": "code",
   "execution_count": 8,
   "metadata": {
    "collapsed": true
   },
   "outputs": [],
   "source": [
    "df_deduped = df.drop_duplicates(subset='updated_label', keep='first', inplace=False)"
   ]
  },
  {
   "cell_type": "code",
   "execution_count": 9,
   "metadata": {
    "collapsed": false
   },
   "outputs": [
    {
     "data": {
      "text/plain": [
       "(10018, 39)"
      ]
     },
     "execution_count": 9,
     "metadata": {},
     "output_type": "execute_result"
    }
   ],
   "source": [
    "# Original df.info (number of non-null rows) = 16,938\n",
    "df_deduped.shape"
   ]
  },
  {
   "cell_type": "markdown",
   "metadata": {},
   "source": [
    "# Now it's time for Excel\n",
    "We'll do basically what we did above, but read the original Excel file and attempt no conversions"
   ]
  },
  {
   "cell_type": "code",
   "execution_count": 10,
   "metadata": {
    "collapsed": false
   },
   "outputs": [],
   "source": [
    "dfe = pd.read_excel(\"combined_subject_conversion_file.xlsx\", sheet_name='authorities')"
   ]
  },
  {
   "cell_type": "markdown",
   "metadata": {},
   "source": [
    "### First goal: \n"
   ]
  },
  {
   "cell_type": "code",
   "execution_count": 11,
   "metadata": {
    "collapsed": true
   },
   "outputs": [],
   "source": [
    "# import regular expressions library in case we need it\n",
    "import re"
   ]
  },
  {
   "cell_type": "code",
   "execution_count": 12,
   "metadata": {
    "collapsed": false
   },
   "outputs": [
    {
     "data": {
      "text/plain": [
       "(9936, 10)"
      ]
     },
     "execution_count": 12,
     "metadata": {},
     "output_type": "execute_result"
    }
   ],
   "source": [
    "dfe.shape"
   ]
  },
  {
   "cell_type": "code",
   "execution_count": 13,
   "metadata": {
    "collapsed": false
   },
   "outputs": [
    {
     "data": {
      "text/plain": [
       "<bound method NDFrame.head of 0                      http://id.worldcat.org/fast/518160\n",
       "1                          http://viaf.org/viaf/205794409\n",
       "2                                                     NaN\n",
       "3                                                     NaN\n",
       "4                                                     NaN\n",
       "5                                                     NaN\n",
       "6                                                     NaN\n",
       "7                                                     NaN\n",
       "8                                                     NaN\n",
       "9                                                     NaN\n",
       "10                                                    NaN\n",
       "11                                                    NaN\n",
       "12                                                    NaN\n",
       "13                                                    NaN\n",
       "14                                                    NaN\n",
       "15                                                    NaN\n",
       "16                                                    NaN\n",
       "17                                                    NaN\n",
       "18                                                    NaN\n",
       "19                                                    NaN\n",
       "20                                                    NaN\n",
       "21                                                    NaN\n",
       "22                                                    NaN\n",
       "23                                                    NaN\n",
       "24                                                    NaN\n",
       "25                                                    NaN\n",
       "26                                                    NaN\n",
       "27                                                    NaN\n",
       "28                                                    NaN\n",
       "29                                                    NaN\n",
       "                              ...                        \n",
       "9906                                                  NaN\n",
       "9907                                                  NaN\n",
       "9908                                                  NaN\n",
       "9909                                                  NaN\n",
       "9910                        http://viaf.org/viaf/77640714\n",
       "9911                                                  NaN\n",
       "9912            http://viaf.org/viaf/29148207877200342077\n",
       "9913                                                  NaN\n",
       "9914                                                  NaN\n",
       "9915    http://id.loc.gov/authorities/subjects/sh85024997\n",
       "9916                                                  NaN\n",
       "9917                       http://viaf.org/viaf/306231564\n",
       "9918                       http://viaf.org/viaf/169346180\n",
       "9919                                                  NaN\n",
       "9920                                                  NaN\n",
       "9921                        http://viaf.org/viaf/62935464\n",
       "9922                                                  NaN\n",
       "9923                                                  NaN\n",
       "9924                       http://viaf.org/viaf/116733090\n",
       "9925                                         local-zobe-1\n",
       "9926                   http://id.worldcat.org/fast/618280\n",
       "9927                  http://id.worldcat.org/fast/1184690\n",
       "9928                  http://id.worldcat.org/fast/1184692\n",
       "9929                  http://id.worldcat.org/fast/1184696\n",
       "9930                  http://id.worldcat.org/fast/1184777\n",
       "9931                        http://viaf.org/viaf/31906805\n",
       "9932                        http://viaf.org/viaf/41396000\n",
       "9933                                                  NaN\n",
       "9934                       http://viaf.org/viaf/108726984\n",
       "9935                                                  NaN\n",
       "Name: clustering id, Length: 9936, dtype: object>"
      ]
     },
     "execution_count": 13,
     "metadata": {},
     "output_type": "execute_result"
    }
   ],
   "source": [
    "dfe['clustering id'].head"
   ]
  },
  {
   "cell_type": "markdown",
   "metadata": {},
   "source": [
    "See row 9925? It has a \"local\" value. Therefore, by defintion we cannot have these local values as an \"external URI\" column. We'd need to filter out those values. We can find them by using the `.contains` method:"
   ]
  },
  {
   "cell_type": "code",
   "execution_count": 14,
   "metadata": {
    "collapsed": false
   },
   "outputs": [],
   "source": [
    "df_local = dfe['clustering id'].str.contains(\"local\", na='NaN')"
   ]
  },
  {
   "cell_type": "code",
   "execution_count": 28,
   "metadata": {
    "collapsed": false
   },
   "outputs": [
    {
     "data": {
      "text/plain": [
       "0    False\n",
       "1    False\n",
       "2      NaN\n",
       "3      NaN\n",
       "4      NaN\n",
       "Name: clustering id, dtype: object"
      ]
     },
     "execution_count": 28,
     "metadata": {},
     "output_type": "execute_result"
    }
   ],
   "source": [
    "df_local.head()"
   ]
  },
  {
   "cell_type": "code",
   "execution_count": 16,
   "metadata": {
    "collapsed": false
   },
   "outputs": [],
   "source": [
    "dff = pd.unique(dfe[['clustering id', 'FAST_URI', 'VIAF_URI']].values.ravel())"
   ]
  },
  {
   "cell_type": "code",
   "execution_count": 17,
   "metadata": {
    "collapsed": false
   },
   "outputs": [
    {
     "data": {
      "text/plain": [
       "array(['http://id.worldcat.org/fast/518160', nan,\n",
       "       'http://viaf.org/viaf/205794409',\n",
       "       'http://id.worldcat.org/fast/1912532',\n",
       "       'http://id.worldcat.org/fast/1355782',\n",
       "       'http://id.worldcat.org/fast/1037781',\n",
       "       'http://id.worldcat.org/fast/1037841',\n",
       "       'http://viaf.org/viaf/133756274', 'http://viaf.org/viaf/144177198',\n",
       "       'http://id.loc.gov/authorities/subjects/sh2010014617',\n",
       "       'http://id.worldcat.org/fast/1883914',\n",
       "       'http://id.worldcat.org/fast/794142',\n",
       "       'http://id.worldcat.org/fast/794145',\n",
       "       'http://id.worldcat.org/fast/794496', 'local-abra-1',\n",
       "       'http://id.worldcat.org/fast/794929',\n",
       "       'http://id.worldcat.org/fast/794982',\n",
       "       'http://id.worldcat.org/fast/794997',\n",
       "       'http://id.loc.gov/authorities/names/n79145195',\n",
       "       'http://id.worldcat.org/fast/1207152'], dtype=object)"
      ]
     },
     "execution_count": 17,
     "metadata": {},
     "output_type": "execute_result"
    }
   ],
   "source": [
    "dff[0:20]"
   ]
  },
  {
   "cell_type": "markdown",
   "metadata": {},
   "source": [
    "## Statistics and plotting\n",
    "\n",
    "Let's do some statistics on the data, and then try some plotting"
   ]
  },
  {
   "cell_type": "code",
   "execution_count": 18,
   "metadata": {
    "collapsed": true
   },
   "outputs": [],
   "source": [
    "%matplotlib inline"
   ]
  },
  {
   "cell_type": "code",
   "execution_count": 19,
   "metadata": {},
   "outputs": [
    {
     "data": {
      "text/plain": [
       "count          16938\n",
       "unique            14\n",
       "top       dams:topic\n",
       "freq            6621\n",
       "Name: new_predicate, dtype: object"
      ]
     },
     "execution_count": 19,
     "metadata": {},
     "output_type": "execute_result"
    }
   ],
   "source": [
    "df['new_predicate'].describe()"
   ]
  },
  {
   "cell_type": "code",
   "execution_count": 20,
   "metadata": {},
   "outputs": [],
   "source": [
    "subjectTypes = df['new_predicate'].unique()"
   ]
  },
  {
   "cell_type": "code",
   "execution_count": 21,
   "metadata": {},
   "outputs": [
    {
     "data": {
      "text/plain": [
       "array(['dams:geographic', 'dams:topic', 'dams:corporateName',\n",
       "       'dams:personalName', 'dams:temporal', 'not used',\n",
       "       'dams:scientificName', 'dams:familyName', nan, 'dams:personalName ',\n",
       "       'dams:geographic ', 'dams:scientificName ', 'dams:anatomy ',\n",
       "       'dams:familyName ', 'dams:series '], dtype=object)"
      ]
     },
     "execution_count": 21,
     "metadata": {},
     "output_type": "execute_result"
    }
   ],
   "source": [
    "subjectTypes"
   ]
  },
  {
   "cell_type": "code",
   "execution_count": 22,
   "metadata": {},
   "outputs": [],
   "source": [
    "bySubj = df.groupby('new_predicate')"
   ]
  },
  {
   "cell_type": "code",
   "execution_count": 23,
   "metadata": {},
   "outputs": [
    {
     "data": {
      "text/html": [
       "<div>\n",
       "<style scoped>\n",
       "    .dataframe tbody tr th:only-of-type {\n",
       "        vertical-align: middle;\n",
       "    }\n",
       "\n",
       "    .dataframe tbody tr th {\n",
       "        vertical-align: top;\n",
       "    }\n",
       "\n",
       "    .dataframe thead tr th {\n",
       "        text-align: left;\n",
       "    }\n",
       "\n",
       "    .dataframe thead tr:last-of-type th {\n",
       "        text-align: right;\n",
       "    }\n",
       "</style>\n",
       "<table border=\"1\" class=\"dataframe\">\n",
       "  <thead>\n",
       "    <tr>\n",
       "      <th></th>\n",
       "      <th colspan=\"8\" halign=\"left\">MARC_tag</th>\n",
       "      <th colspan=\"2\" halign=\"left\">Object_Counts</th>\n",
       "      <th>...</th>\n",
       "      <th colspan=\"2\" halign=\"left\">mm</th>\n",
       "      <th colspan=\"8\" halign=\"left\">sort</th>\n",
       "    </tr>\n",
       "    <tr>\n",
       "      <th></th>\n",
       "      <th>count</th>\n",
       "      <th>mean</th>\n",
       "      <th>std</th>\n",
       "      <th>min</th>\n",
       "      <th>25%</th>\n",
       "      <th>50%</th>\n",
       "      <th>75%</th>\n",
       "      <th>max</th>\n",
       "      <th>count</th>\n",
       "      <th>mean</th>\n",
       "      <th>...</th>\n",
       "      <th>75%</th>\n",
       "      <th>max</th>\n",
       "      <th>count</th>\n",
       "      <th>mean</th>\n",
       "      <th>std</th>\n",
       "      <th>min</th>\n",
       "      <th>25%</th>\n",
       "      <th>50%</th>\n",
       "      <th>75%</th>\n",
       "      <th>max</th>\n",
       "    </tr>\n",
       "    <tr>\n",
       "      <th>new_predicate</th>\n",
       "      <th></th>\n",
       "      <th></th>\n",
       "      <th></th>\n",
       "      <th></th>\n",
       "      <th></th>\n",
       "      <th></th>\n",
       "      <th></th>\n",
       "      <th></th>\n",
       "      <th></th>\n",
       "      <th></th>\n",
       "      <th></th>\n",
       "      <th></th>\n",
       "      <th></th>\n",
       "      <th></th>\n",
       "      <th></th>\n",
       "      <th></th>\n",
       "      <th></th>\n",
       "      <th></th>\n",
       "      <th></th>\n",
       "      <th></th>\n",
       "      <th></th>\n",
       "    </tr>\n",
       "  </thead>\n",
       "  <tbody>\n",
       "    <tr>\n",
       "      <th>dams:anatomy</th>\n",
       "      <td>0.0</td>\n",
       "      <td>NaN</td>\n",
       "      <td>NaN</td>\n",
       "      <td>NaN</td>\n",
       "      <td>NaN</td>\n",
       "      <td>NaN</td>\n",
       "      <td>NaN</td>\n",
       "      <td>NaN</td>\n",
       "      <td>5.0</td>\n",
       "      <td>2.400000</td>\n",
       "      <td>...</td>\n",
       "      <td>NaN</td>\n",
       "      <td>NaN</td>\n",
       "      <td>5.0</td>\n",
       "      <td>31516.200000</td>\n",
       "      <td>303.205706</td>\n",
       "      <td>31109.0</td>\n",
       "      <td>31326.00</td>\n",
       "      <td>31539.0</td>\n",
       "      <td>31795.00</td>\n",
       "      <td>31812.0</td>\n",
       "    </tr>\n",
       "    <tr>\n",
       "      <th>dams:corporateName</th>\n",
       "      <td>599.0</td>\n",
       "      <td>110.337229</td>\n",
       "      <td>3.074841</td>\n",
       "      <td>110.0</td>\n",
       "      <td>110.0</td>\n",
       "      <td>110.0</td>\n",
       "      <td>110.0</td>\n",
       "      <td>151.0</td>\n",
       "      <td>1244.0</td>\n",
       "      <td>80.688907</td>\n",
       "      <td>...</td>\n",
       "      <td>NaN</td>\n",
       "      <td>NaN</td>\n",
       "      <td>1244.0</td>\n",
       "      <td>18028.440514</td>\n",
       "      <td>10161.304336</td>\n",
       "      <td>5.0</td>\n",
       "      <td>8919.50</td>\n",
       "      <td>18602.5</td>\n",
       "      <td>27921.75</td>\n",
       "      <td>32048.0</td>\n",
       "    </tr>\n",
       "    <tr>\n",
       "      <th>dams:familyName</th>\n",
       "      <td>10.0</td>\n",
       "      <td>100.000000</td>\n",
       "      <td>0.000000</td>\n",
       "      <td>100.0</td>\n",
       "      <td>100.0</td>\n",
       "      <td>100.0</td>\n",
       "      <td>100.0</td>\n",
       "      <td>100.0</td>\n",
       "      <td>21.0</td>\n",
       "      <td>2.285714</td>\n",
       "      <td>...</td>\n",
       "      <td>NaN</td>\n",
       "      <td>NaN</td>\n",
       "      <td>21.0</td>\n",
       "      <td>15202.809524</td>\n",
       "      <td>8941.908586</td>\n",
       "      <td>3271.0</td>\n",
       "      <td>6775.00</td>\n",
       "      <td>13071.0</td>\n",
       "      <td>22859.00</td>\n",
       "      <td>29008.0</td>\n",
       "    </tr>\n",
       "    <tr>\n",
       "      <th>dams:familyName</th>\n",
       "      <td>0.0</td>\n",
       "      <td>NaN</td>\n",
       "      <td>NaN</td>\n",
       "      <td>NaN</td>\n",
       "      <td>NaN</td>\n",
       "      <td>NaN</td>\n",
       "      <td>NaN</td>\n",
       "      <td>NaN</td>\n",
       "      <td>4.0</td>\n",
       "      <td>40.750000</td>\n",
       "      <td>...</td>\n",
       "      <td>NaN</td>\n",
       "      <td>NaN</td>\n",
       "      <td>4.0</td>\n",
       "      <td>31580.250000</td>\n",
       "      <td>459.871268</td>\n",
       "      <td>31111.0</td>\n",
       "      <td>31224.25</td>\n",
       "      <td>31599.0</td>\n",
       "      <td>31955.00</td>\n",
       "      <td>32012.0</td>\n",
       "    </tr>\n",
       "    <tr>\n",
       "      <th>dams:geographic</th>\n",
       "      <td>3373.0</td>\n",
       "      <td>150.816484</td>\n",
       "      <td>2.728600</td>\n",
       "      <td>110.0</td>\n",
       "      <td>151.0</td>\n",
       "      <td>151.0</td>\n",
       "      <td>151.0</td>\n",
       "      <td>151.0</td>\n",
       "      <td>4289.0</td>\n",
       "      <td>25.278153</td>\n",
       "      <td>...</td>\n",
       "      <td>NaN</td>\n",
       "      <td>NaN</td>\n",
       "      <td>4289.0</td>\n",
       "      <td>15471.498718</td>\n",
       "      <td>8940.569747</td>\n",
       "      <td>2.0</td>\n",
       "      <td>7798.00</td>\n",
       "      <td>15492.0</td>\n",
       "      <td>23197.00</td>\n",
       "      <td>30915.0</td>\n",
       "    </tr>\n",
       "    <tr>\n",
       "      <th>dams:geographic</th>\n",
       "      <td>0.0</td>\n",
       "      <td>NaN</td>\n",
       "      <td>NaN</td>\n",
       "      <td>NaN</td>\n",
       "      <td>NaN</td>\n",
       "      <td>NaN</td>\n",
       "      <td>NaN</td>\n",
       "      <td>NaN</td>\n",
       "      <td>224.0</td>\n",
       "      <td>8.245536</td>\n",
       "      <td>...</td>\n",
       "      <td>NaN</td>\n",
       "      <td>NaN</td>\n",
       "      <td>224.0</td>\n",
       "      <td>31569.187500</td>\n",
       "      <td>313.678094</td>\n",
       "      <td>30944.0</td>\n",
       "      <td>31353.50</td>\n",
       "      <td>31597.0</td>\n",
       "      <td>31840.75</td>\n",
       "      <td>32064.0</td>\n",
       "    </tr>\n",
       "    <tr>\n",
       "      <th>dams:personalName</th>\n",
       "      <td>904.0</td>\n",
       "      <td>100.000000</td>\n",
       "      <td>0.000000</td>\n",
       "      <td>100.0</td>\n",
       "      <td>100.0</td>\n",
       "      <td>100.0</td>\n",
       "      <td>100.0</td>\n",
       "      <td>100.0</td>\n",
       "      <td>3998.0</td>\n",
       "      <td>4.989245</td>\n",
       "      <td>...</td>\n",
       "      <td>NaN</td>\n",
       "      <td>NaN</td>\n",
       "      <td>3998.0</td>\n",
       "      <td>15424.757879</td>\n",
       "      <td>8876.582720</td>\n",
       "      <td>17.0</td>\n",
       "      <td>7828.75</td>\n",
       "      <td>15374.0</td>\n",
       "      <td>23039.50</td>\n",
       "      <td>30918.0</td>\n",
       "    </tr>\n",
       "    <tr>\n",
       "      <th>dams:personalName</th>\n",
       "      <td>0.0</td>\n",
       "      <td>NaN</td>\n",
       "      <td>NaN</td>\n",
       "      <td>NaN</td>\n",
       "      <td>NaN</td>\n",
       "      <td>NaN</td>\n",
       "      <td>NaN</td>\n",
       "      <td>NaN</td>\n",
       "      <td>234.0</td>\n",
       "      <td>3.683761</td>\n",
       "      <td>...</td>\n",
       "      <td>NaN</td>\n",
       "      <td>NaN</td>\n",
       "      <td>234.0</td>\n",
       "      <td>31436.777778</td>\n",
       "      <td>302.477470</td>\n",
       "      <td>30928.0</td>\n",
       "      <td>31259.25</td>\n",
       "      <td>31363.5</td>\n",
       "      <td>31639.00</td>\n",
       "      <td>32062.0</td>\n",
       "    </tr>\n",
       "    <tr>\n",
       "      <th>dams:scientificName</th>\n",
       "      <td>15.0</td>\n",
       "      <td>150.000000</td>\n",
       "      <td>0.000000</td>\n",
       "      <td>150.0</td>\n",
       "      <td>150.0</td>\n",
       "      <td>150.0</td>\n",
       "      <td>150.0</td>\n",
       "      <td>150.0</td>\n",
       "      <td>15.0</td>\n",
       "      <td>2.933333</td>\n",
       "      <td>...</td>\n",
       "      <td>NaN</td>\n",
       "      <td>NaN</td>\n",
       "      <td>15.0</td>\n",
       "      <td>15846.333333</td>\n",
       "      <td>10355.698153</td>\n",
       "      <td>1611.0</td>\n",
       "      <td>4710.00</td>\n",
       "      <td>18393.0</td>\n",
       "      <td>22957.00</td>\n",
       "      <td>29699.0</td>\n",
       "    </tr>\n",
       "    <tr>\n",
       "      <th>dams:scientificName</th>\n",
       "      <td>0.0</td>\n",
       "      <td>NaN</td>\n",
       "      <td>NaN</td>\n",
       "      <td>NaN</td>\n",
       "      <td>NaN</td>\n",
       "      <td>NaN</td>\n",
       "      <td>NaN</td>\n",
       "      <td>NaN</td>\n",
       "      <td>21.0</td>\n",
       "      <td>1.666667</td>\n",
       "      <td>...</td>\n",
       "      <td>NaN</td>\n",
       "      <td>NaN</td>\n",
       "      <td>21.0</td>\n",
       "      <td>31525.285714</td>\n",
       "      <td>275.626766</td>\n",
       "      <td>30983.0</td>\n",
       "      <td>31375.00</td>\n",
       "      <td>31619.0</td>\n",
       "      <td>31691.00</td>\n",
       "      <td>31964.0</td>\n",
       "    </tr>\n",
       "    <tr>\n",
       "      <th>dams:series</th>\n",
       "      <td>0.0</td>\n",
       "      <td>NaN</td>\n",
       "      <td>NaN</td>\n",
       "      <td>NaN</td>\n",
       "      <td>NaN</td>\n",
       "      <td>NaN</td>\n",
       "      <td>NaN</td>\n",
       "      <td>NaN</td>\n",
       "      <td>23.0</td>\n",
       "      <td>2.782609</td>\n",
       "      <td>...</td>\n",
       "      <td>NaN</td>\n",
       "      <td>NaN</td>\n",
       "      <td>23.0</td>\n",
       "      <td>31462.782609</td>\n",
       "      <td>256.246145</td>\n",
       "      <td>31237.0</td>\n",
       "      <td>31242.50</td>\n",
       "      <td>31248.0</td>\n",
       "      <td>31747.50</td>\n",
       "      <td>31753.0</td>\n",
       "    </tr>\n",
       "    <tr>\n",
       "      <th>dams:temporal</th>\n",
       "      <td>61.0</td>\n",
       "      <td>149.967213</td>\n",
       "      <td>0.256074</td>\n",
       "      <td>148.0</td>\n",
       "      <td>150.0</td>\n",
       "      <td>150.0</td>\n",
       "      <td>150.0</td>\n",
       "      <td>150.0</td>\n",
       "      <td>128.0</td>\n",
       "      <td>103.312500</td>\n",
       "      <td>...</td>\n",
       "      <td>NaN</td>\n",
       "      <td>NaN</td>\n",
       "      <td>128.0</td>\n",
       "      <td>15252.085938</td>\n",
       "      <td>8635.783242</td>\n",
       "      <td>100.0</td>\n",
       "      <td>8487.25</td>\n",
       "      <td>14382.0</td>\n",
       "      <td>22964.75</td>\n",
       "      <td>30922.0</td>\n",
       "    </tr>\n",
       "    <tr>\n",
       "      <th>dams:topic</th>\n",
       "      <td>5739.0</td>\n",
       "      <td>150.423070</td>\n",
       "      <td>5.626067</td>\n",
       "      <td>100.0</td>\n",
       "      <td>150.0</td>\n",
       "      <td>150.0</td>\n",
       "      <td>150.0</td>\n",
       "      <td>155.0</td>\n",
       "      <td>6621.0</td>\n",
       "      <td>34.986105</td>\n",
       "      <td>...</td>\n",
       "      <td>NaN</td>\n",
       "      <td>NaN</td>\n",
       "      <td>6621.0</td>\n",
       "      <td>16486.312415</td>\n",
       "      <td>9532.635148</td>\n",
       "      <td>3.0</td>\n",
       "      <td>8139.00</td>\n",
       "      <td>16551.0</td>\n",
       "      <td>24861.00</td>\n",
       "      <td>32065.0</td>\n",
       "    </tr>\n",
       "    <tr>\n",
       "      <th>not used</th>\n",
       "      <td>34.0</td>\n",
       "      <td>148.941176</td>\n",
       "      <td>6.060009</td>\n",
       "      <td>130.0</td>\n",
       "      <td>150.0</td>\n",
       "      <td>151.0</td>\n",
       "      <td>151.0</td>\n",
       "      <td>155.0</td>\n",
       "      <td>110.0</td>\n",
       "      <td>173.727273</td>\n",
       "      <td>...</td>\n",
       "      <td>NaN</td>\n",
       "      <td>NaN</td>\n",
       "      <td>111.0</td>\n",
       "      <td>15394.702703</td>\n",
       "      <td>8276.751582</td>\n",
       "      <td>269.0</td>\n",
       "      <td>8451.00</td>\n",
       "      <td>15517.0</td>\n",
       "      <td>22097.50</td>\n",
       "      <td>29744.0</td>\n",
       "    </tr>\n",
       "  </tbody>\n",
       "</table>\n",
       "<p>14 rows × 48 columns</p>\n",
       "</div>"
      ],
      "text/plain": [
       "                     MARC_tag                                             \\\n",
       "                        count        mean       std    min    25%    50%   \n",
       "new_predicate                                                              \n",
       "dams:anatomy              0.0         NaN       NaN    NaN    NaN    NaN   \n",
       "dams:corporateName      599.0  110.337229  3.074841  110.0  110.0  110.0   \n",
       "dams:familyName          10.0  100.000000  0.000000  100.0  100.0  100.0   \n",
       "dams:familyName           0.0         NaN       NaN    NaN    NaN    NaN   \n",
       "dams:geographic        3373.0  150.816484  2.728600  110.0  151.0  151.0   \n",
       "dams:geographic           0.0         NaN       NaN    NaN    NaN    NaN   \n",
       "dams:personalName       904.0  100.000000  0.000000  100.0  100.0  100.0   \n",
       "dams:personalName         0.0         NaN       NaN    NaN    NaN    NaN   \n",
       "dams:scientificName      15.0  150.000000  0.000000  150.0  150.0  150.0   \n",
       "dams:scientificName       0.0         NaN       NaN    NaN    NaN    NaN   \n",
       "dams:series               0.0         NaN       NaN    NaN    NaN    NaN   \n",
       "dams:temporal            61.0  149.967213  0.256074  148.0  150.0  150.0   \n",
       "dams:topic             5739.0  150.423070  5.626067  100.0  150.0  150.0   \n",
       "not used                 34.0  148.941176  6.060009  130.0  150.0  151.0   \n",
       "\n",
       "                                   Object_Counts               ...     mm      \\\n",
       "                        75%    max         count        mean   ...    75% max   \n",
       "new_predicate                                                  ...              \n",
       "dams:anatomy            NaN    NaN           5.0    2.400000   ...    NaN NaN   \n",
       "dams:corporateName    110.0  151.0        1244.0   80.688907   ...    NaN NaN   \n",
       "dams:familyName       100.0  100.0          21.0    2.285714   ...    NaN NaN   \n",
       "dams:familyName         NaN    NaN           4.0   40.750000   ...    NaN NaN   \n",
       "dams:geographic       151.0  151.0        4289.0   25.278153   ...    NaN NaN   \n",
       "dams:geographic         NaN    NaN         224.0    8.245536   ...    NaN NaN   \n",
       "dams:personalName     100.0  100.0        3998.0    4.989245   ...    NaN NaN   \n",
       "dams:personalName       NaN    NaN         234.0    3.683761   ...    NaN NaN   \n",
       "dams:scientificName   150.0  150.0          15.0    2.933333   ...    NaN NaN   \n",
       "dams:scientificName     NaN    NaN          21.0    1.666667   ...    NaN NaN   \n",
       "dams:series             NaN    NaN          23.0    2.782609   ...    NaN NaN   \n",
       "dams:temporal         150.0  150.0         128.0  103.312500   ...    NaN NaN   \n",
       "dams:topic            150.0  155.0        6621.0   34.986105   ...    NaN NaN   \n",
       "not used              151.0  155.0         110.0  173.727273   ...    NaN NaN   \n",
       "\n",
       "                        sort                                                 \\\n",
       "                       count          mean           std      min       25%   \n",
       "new_predicate                                                                 \n",
       "dams:anatomy             5.0  31516.200000    303.205706  31109.0  31326.00   \n",
       "dams:corporateName    1244.0  18028.440514  10161.304336      5.0   8919.50   \n",
       "dams:familyName         21.0  15202.809524   8941.908586   3271.0   6775.00   \n",
       "dams:familyName          4.0  31580.250000    459.871268  31111.0  31224.25   \n",
       "dams:geographic       4289.0  15471.498718   8940.569747      2.0   7798.00   \n",
       "dams:geographic        224.0  31569.187500    313.678094  30944.0  31353.50   \n",
       "dams:personalName     3998.0  15424.757879   8876.582720     17.0   7828.75   \n",
       "dams:personalName      234.0  31436.777778    302.477470  30928.0  31259.25   \n",
       "dams:scientificName     15.0  15846.333333  10355.698153   1611.0   4710.00   \n",
       "dams:scientificName     21.0  31525.285714    275.626766  30983.0  31375.00   \n",
       "dams:series             23.0  31462.782609    256.246145  31237.0  31242.50   \n",
       "dams:temporal          128.0  15252.085938   8635.783242    100.0   8487.25   \n",
       "dams:topic            6621.0  16486.312415   9532.635148      3.0   8139.00   \n",
       "not used               111.0  15394.702703   8276.751582    269.0   8451.00   \n",
       "\n",
       "                                                  \n",
       "                          50%       75%      max  \n",
       "new_predicate                                     \n",
       "dams:anatomy          31539.0  31795.00  31812.0  \n",
       "dams:corporateName    18602.5  27921.75  32048.0  \n",
       "dams:familyName       13071.0  22859.00  29008.0  \n",
       "dams:familyName       31599.0  31955.00  32012.0  \n",
       "dams:geographic       15492.0  23197.00  30915.0  \n",
       "dams:geographic       31597.0  31840.75  32064.0  \n",
       "dams:personalName     15374.0  23039.50  30918.0  \n",
       "dams:personalName     31363.5  31639.00  32062.0  \n",
       "dams:scientificName   18393.0  22957.00  29699.0  \n",
       "dams:scientificName   31619.0  31691.00  31964.0  \n",
       "dams:series           31248.0  31747.50  31753.0  \n",
       "dams:temporal         14382.0  22964.75  30922.0  \n",
       "dams:topic            16551.0  24861.00  32065.0  \n",
       "not used              15517.0  22097.50  29744.0  \n",
       "\n",
       "[14 rows x 48 columns]"
      ]
     },
     "execution_count": 23,
     "metadata": {},
     "output_type": "execute_result"
    }
   ],
   "source": [
    "bySubj.describe()"
   ]
  },
  {
   "cell_type": "code",
   "execution_count": 24,
   "metadata": {},
   "outputs": [],
   "source": [
    "bySubj_counts = df.groupby('new_predicate')['updated_label'].count()"
   ]
  },
  {
   "cell_type": "code",
   "execution_count": 27,
   "metadata": {},
   "outputs": [
    {
     "data": {
      "text/plain": [
       "<matplotlib.axes._subplots.AxesSubplot at 0x7f14e1926e80>"
      ]
     },
     "execution_count": 27,
     "metadata": {},
     "output_type": "execute_result"
    },
    {
     "data": {
      "image/png": "[encoded data removed]",
      "text/plain": [
       "<matplotlib.figure.Figure at 0x7f14e1921e10>"
      ]
     },
     "metadata": {},
     "output_type": "display_data"
    }
   ],
   "source": [
    "bySubj_counts.plot(kind='bar')"
   ]
  },
  {
   "cell_type": "code",
   "execution_count": 25,
   "metadata": {},
   "outputs": [],
   "source": [
    "typesCount = df['new_predicate'].count()"
   ]
  },
  {
   "cell_type": "code",
   "execution_count": 26,
   "metadata": {},
   "outputs": [
    {
     "data": {
      "text/plain": [
       "16938"
      ]
     },
     "execution_count": 26,
     "metadata": {},
     "output_type": "execute_result"
    }
   ],
   "source": [
    "typesCount"
   ]
  },
  {
   "cell_type": "code",
   "execution_count": 29,
   "metadata": {},
   "outputs": [
    {
     "data": {
      "text/plain": [
       "<matplotlib.axes._subplots.AxesSubplot at 0x7f14e135e630>"
      ]
     },
     "execution_count": 29,
     "metadata": {},
     "output_type": "execute_result"
    },
    {
     "data": {
      "image/png": "[encoded data removed]",
      "text/plain": [
       "<matplotlib.figure.Figure at 0x7f14e1dff390>"
      ]
     },
     "metadata": {},
     "output_type": "display_data"
    }
   ],
   "source": []
  },
  {
   "cell_type": "code",
   "execution_count": null,
   "metadata": {},
   "outputs": [],
   "source": []
  }
 ],
 "metadata": {
  "anaconda-cloud": {},
  "kernelspec": {
   "display_name": "Python [conda root]",
   "language": "python",
   "name": "conda-root-py"
  },
  "language_info": {
   "codemirror_mode": {
    "name": "ipython",
    "version": 3
   },
   "file_extension": ".py",
   "mimetype": "text/x-python",
   "name": "python",
   "nbconvert_exporter": "python",
   "pygments_lexer": "ipython3",
   "version": "3.5.2"
  }
 },
 "nbformat": 4,
 "nbformat_minor": 2
}
